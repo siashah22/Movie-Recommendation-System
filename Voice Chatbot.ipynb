{
 "cells": [
  {
   "cell_type": "code",
   "execution_count": 1,
   "id": "d6d903b5",
   "metadata": {},
   "outputs": [
    {
     "name": "stdout",
     "output_type": "stream",
     "text": [
      "Requirement already satisfied: SpeechRecognition in c:\\users\\siya\\anaconda3\\lib\\site-packages (3.14.0)\n",
      "Collecting pyttsx3\n",
      "  Downloading pyttsx3-2.98-py3-none-any.whl.metadata (3.8 kB)\n",
      "Collecting pyaudio\n",
      "  Using cached PyAudio-0.2.14-cp311-cp311-win_amd64.whl.metadata (2.7 kB)\n",
      "Requirement already satisfied: pandas in c:\\users\\siya\\anaconda3\\lib\\site-packages (1.5.3)\n",
      "Requirement already satisfied: scikit-learn in c:\\users\\siya\\anaconda3\\lib\\site-packages (1.3.0)\n",
      "Requirement already satisfied: typing-extensions in c:\\users\\siya\\anaconda3\\lib\\site-packages (from SpeechRecognition) (4.7.1)\n",
      "Collecting comtypes (from pyttsx3)\n",
      "  Downloading comtypes-1.4.10-py3-none-any.whl.metadata (7.2 kB)\n",
      "Collecting pypiwin32 (from pyttsx3)\n",
      "  Downloading pypiwin32-223-py3-none-any.whl.metadata (236 bytes)\n",
      "Requirement already satisfied: pywin32 in c:\\users\\siya\\anaconda3\\lib\\site-packages (from pyttsx3) (305.1)\n",
      "Requirement already satisfied: python-dateutil>=2.8.1 in c:\\users\\siya\\anaconda3\\lib\\site-packages (from pandas) (2.8.2)\n",
      "Requirement already satisfied: pytz>=2020.1 in c:\\users\\siya\\anaconda3\\lib\\site-packages (from pandas) (2022.7)\n",
      "Requirement already satisfied: numpy>=1.21.0 in c:\\users\\siya\\anaconda3\\lib\\site-packages (from pandas) (1.24.3)\n",
      "Requirement already satisfied: scipy>=1.5.0 in c:\\users\\siya\\anaconda3\\lib\\site-packages (from scikit-learn) (1.10.1)\n",
      "Requirement already satisfied: joblib>=1.1.1 in c:\\users\\siya\\anaconda3\\lib\\site-packages (from scikit-learn) (1.2.0)\n",
      "Requirement already satisfied: threadpoolctl>=2.0.0 in c:\\users\\siya\\anaconda3\\lib\\site-packages (from scikit-learn) (2.2.0)\n",
      "Requirement already satisfied: six>=1.5 in c:\\users\\siya\\anaconda3\\lib\\site-packages (from python-dateutil>=2.8.1->pandas) (1.16.0)\n",
      "Downloading pyttsx3-2.98-py3-none-any.whl (34 kB)\n",
      "Using cached PyAudio-0.2.14-cp311-cp311-win_amd64.whl (164 kB)\n",
      "Downloading comtypes-1.4.10-py3-none-any.whl (241 kB)\n",
      "Downloading pypiwin32-223-py3-none-any.whl (1.7 kB)\n",
      "Installing collected packages: pyaudio, pypiwin32, comtypes, pyttsx3\n",
      "Successfully installed comtypes-1.4.10 pyaudio-0.2.14 pypiwin32-223 pyttsx3-2.98\n"
     ]
    }
   ],
   "source": [
    "!pip install SpeechRecognition pyttsx3 pyaudio pandas scikit-learn\n"
   ]
  },
  {
   "cell_type": "code",
   "execution_count": 5,
   "id": "8ccf0d62",
   "metadata": {},
   "outputs": [
    {
     "name": "stderr",
     "output_type": "stream",
     "text": [
      "C:\\Users\\Siya\\AppData\\Local\\Temp\\ipykernel_15080\\114863290.py:16: FutureWarning: The default value of regex will change from True to False in a future version. In addition, single character regular expressions will *not* be treated as literal strings when regex=True.\n",
      "  df['description'] = df['genre'].str.replace('|', ' ')  # use genres as a basic description\n"
     ]
    },
    {
     "name": "stdout",
     "output_type": "stream",
     "text": [
      "Bot: Hi! Tell me a movie you like, and I’ll recommend something similar.\n",
      "Listening...\n",
      "You said: Devdas\n",
      "Bot: If you liked Devdas, you might also like: Censor, Haan Maine Bhi Pyaar Kiya, Hum Pyar Tumhi Se Kar Baithe, Tumsa Nahin Dekha, Jaan-E-Mann: Let's Fall in Love... Again\n",
      "Bot: Do you want another recommendation? Please say yes or no.\n",
      "Listening...\n",
      "You said: no thanks\n",
      "Recognized response: no thanks\n",
      "Bot: Okay, goodbye!\n"
     ]
    }
   ],
   "source": [
    "import speech_recognition as sr\n",
    "import pyttsx3\n",
    "import pandas as pd\n",
    "from sklearn.feature_extraction.text import TfidfVectorizer\n",
    "from sklearn.metrics.pairwise import linear_kernel\n",
    "\n",
    "# Text-to-Speech setup\n",
    "engine = pyttsx3.init()\n",
    "def speak(text):\n",
    "    print(\"Bot:\", text)\n",
    "    engine.say(text)\n",
    "    engine.runAndWait()\n",
    "\n",
    "# Load MovieLens movies dataset\n",
    "df = pd.read_csv(r\"C:\\Users\\Siya\\.kaggle\\kaggle.json\\BollywoodMovieDetail.csv\")  # adjust path if needed\n",
    "df['description'] = df['genre'].str.replace('|', ' ')  # use genres as a basic description\n",
    "df = df[['title', 'description']]\n",
    "df['description'] = df['description'].fillna('')\n",
    "\n",
    "# TF-IDF Vectorization\n",
    "tfidf = TfidfVectorizer(stop_words='english')\n",
    "tfidf_matrix = tfidf.fit_transform(df['description'])\n",
    "cosine_sim = linear_kernel(tfidf_matrix, tfidf_matrix)\n",
    "\n",
    "# Recommendation Function\n",
    "def get_recommendation(title):\n",
    "    try:\n",
    "        idx = df[df['title'].str.lower().str.contains(title.lower())].index[0]\n",
    "        sim_scores = list(enumerate(cosine_sim[idx]))\n",
    "        sim_scores = sorted(sim_scores, key=lambda x: x[1], reverse=True)[1:6]\n",
    "        movie_indices = [i[0] for i in sim_scores]\n",
    "        return df['title'].iloc[movie_indices].tolist()\n",
    "    except:\n",
    "        return []\n",
    "\n",
    "# Voice Input\n",
    "def get_voice_input():\n",
    "    recognizer = sr.Recognizer()\n",
    "    with sr.Microphone() as source:\n",
    "        print(\"Listening...\")\n",
    "        audio = recognizer.listen(source)\n",
    "        try:\n",
    "            text = recognizer.recognize_google(audio)\n",
    "            print(\"You said:\", text)\n",
    "            return text\n",
    "        except sr.UnknownValueError:\n",
    "            speak(\"Sorry, I couldn't understand. Try again.\")\n",
    "            return None\n",
    "        except sr.RequestError:\n",
    "            speak(\"Could not request results; check your internet connection.\")\n",
    "            return None\n",
    "\n",
    "# Main Chatbot Loop\n",
    "def chatbot():\n",
    "    speak(\"Hi! Tell me a movie you like, and I’ll recommend something similar.\")\n",
    "    while True:\n",
    "        user_input = get_voice_input()\n",
    "        if user_input:\n",
    "            recommendations = get_recommendation(user_input)\n",
    "            if recommendations:\n",
    "                speak(f\"If you liked {user_input}, you might also like: \" + \", \".join(recommendations))\n",
    "            else:\n",
    "                speak(\"Sorry, I don't know that movie. Try another one.\")\n",
    "        while True:\n",
    "            speak(\"Do you want another recommendation? Please say yes or no.\")\n",
    "            response = get_voice_input()\n",
    "            \n",
    "            if response:\n",
    "                response = response.lower().strip()\n",
    "                print(\"Recognized response:\", response)\n",
    "\n",
    "                if any(word in response for word in ['no', 'nope', 'nah', 'not really']):\n",
    "                    speak(\"Okay, goodbye!\")\n",
    "                    return  # end the chatbot loop\n",
    "                elif any(word in response for word in ['yes', 'yeah', 'yup', 'sure']):\n",
    "                    break  # go back to outer loop to ask for another movie\n",
    "                else:\n",
    "                    speak(\"I heard: \" + response + \". Please say yes or no.\")\n",
    "            else:\n",
    "                speak(\"Didn't get that. Please say yes or no.\")\n",
    "\n",
    "\n",
    "# Run it!\n",
    "chatbot()\n"
   ]
  },
  {
   "cell_type": "code",
   "execution_count": null,
   "id": "f4a9c643",
   "metadata": {},
   "outputs": [],
   "source": []
  }
 ],
 "metadata": {
  "kernelspec": {
   "display_name": "Python 3 (ipykernel)",
   "language": "python",
   "name": "python3"
  },
  "language_info": {
   "codemirror_mode": {
    "name": "ipython",
    "version": 3
   },
   "file_extension": ".py",
   "mimetype": "text/x-python",
   "name": "python",
   "nbconvert_exporter": "python",
   "pygments_lexer": "ipython3",
   "version": "3.11.4"
  }
 },
 "nbformat": 4,
 "nbformat_minor": 5
}
